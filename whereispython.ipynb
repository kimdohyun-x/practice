{
  "nbformat": 4,
  "nbformat_minor": 0,
  "metadata": {
    "colab": {
      "provenance": [],
      "authorship_tag": "ABX9TyMJJebAkA9Dh97i8YkYC5Cn",
      "include_colab_link": true
    },
    "kernelspec": {
      "name": "python3",
      "display_name": "Python 3"
    },
    "language_info": {
      "name": "python"
    }
  },
  "cells": [
    {
      "cell_type": "markdown",
      "metadata": {
        "id": "view-in-github",
        "colab_type": "text"
      },
      "source": [
        "<a href=\"https://colab.research.google.com/github/kimdohyun-x/practice/blob/main/whereispython.ipynb\" target=\"_parent\"><img src=\"https://colab.research.google.com/assets/colab-badge.svg\" alt=\"Open In Colab\"/></a>"
      ]
    },
    {
      "cell_type": "code",
      "execution_count": 10,
      "metadata": {
        "colab": {
          "base_uri": "https://localhost:8080/"
        },
        "id": "bqG9PR2goYaF",
        "outputId": "1c9e8cf6-bbb5-4547-8903-94f5656ff84c"
      },
      "outputs": [
        {
          "output_type": "stream",
          "name": "stdout",
          "text": [
            "['x']\n",
            "['x', 'fuck']\n",
            "['x']\n",
            "[]\n"
          ]
        }
      ],
      "source": [
        "a=[]\n",
        "a.insert(0, 'x')\n",
        "print(a)\n",
        "\n",
        "a.append('fuck')\n",
        "print(a)\n",
        "\n",
        "a.pop(1)\n",
        "print(a)\n",
        "\n",
        "a.remove('x')\n",
        "print(a)"
      ]
    },
    {
      "cell_type": "code",
      "source": [
        "a=[1,2,3,4,5]\n",
        "b=a.index(1)\n",
        "print(b)\n",
        "\n",
        "a.extend([6,7])\n",
        "print(a)\n",
        "\n",
        "a.reverse()\n",
        "print(a)\n",
        "a.sort()\n",
        "print(a)\n",
        "\n",
        "print(len(a))"
      ],
      "metadata": {
        "colab": {
          "base_uri": "https://localhost:8080/"
        },
        "id": "iW3ldTLFp0lT",
        "outputId": "0db0a407-23d8-4d04-be55-7e397e974360"
      },
      "execution_count": 1,
      "outputs": [
        {
          "output_type": "stream",
          "name": "stdout",
          "text": [
            "0\n",
            "[1, 2, 3, 4, 5, 6, 7]\n",
            "[7, 6, 5, 4, 3, 2, 1]\n",
            "[1, 2, 3, 4, 5, 6, 7]\n",
            "7\n"
          ]
        }
      ]
    },
    {
      "cell_type": "code",
      "source": [
        "class ListNode:\n",
        "  def __init__(self, newItem, nextNode: 'ListNode'):\n",
        "    self.item=newItem\n",
        "    self.next=nextNode\n",
        "\n",
        "head=ListNode(10,None)\n",
        "head.next=ListNode(17,None)"
      ],
      "metadata": {
        "id": "sxI16vZ5uoaY"
      },
      "execution_count": null,
      "outputs": []
    }
  ]
}